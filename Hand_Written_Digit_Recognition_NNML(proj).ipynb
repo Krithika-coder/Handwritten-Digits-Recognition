{
  "nbformat": 4,
  "nbformat_minor": 0,
  "metadata": {
    "colab": {
      "name": "Hand_Written_Digit_Recognition_NNML(proj).ipynb",
      "provenance": []
    },
    "kernelspec": {
      "name": "python3",
      "display_name": "Python 3"
    },
    "language_info": {
      "name": "python"
    }
  },
  "cells": [
    {
      "cell_type": "markdown",
      "source": [
        "Loading Dataset"
      ],
      "metadata": {
        "id": "-SJ87-Es5YL-"
      }
    },
    {
      "cell_type": "code",
      "execution_count": null,
      "metadata": {
        "id": "Idt-XciGyKGK"
      },
      "outputs": [],
      "source": [
        "from sklearn.datasets import load_digits\n",
        "digits = load_digits()"
      ]
    },
    {
      "cell_type": "markdown",
      "source": [
        "Importing libraries"
      ],
      "metadata": {
        "id": "o8jYr2Og6A8J"
      }
    },
    {
      "cell_type": "code",
      "source": [
        "from sklearn import metrics\n",
        "from sklearn.metrics import accuracy_score\n",
        "from sklearn.model_selection import train_test_split\n",
        "import matplotlib.pyplot as plt "
      ],
      "metadata": {
        "id": "FhfTUOvW5_wc"
      },
      "execution_count": null,
      "outputs": []
    },
    {
      "cell_type": "markdown",
      "source": [
        "Visualizing an Image in the dataset"
      ],
      "metadata": {
        "id": "OVAvfAe25rap"
      }
    },
    {
      "cell_type": "code",
      "source": [
        "plt.gray() \n",
        "plt.matshow(digits.images[1]) \n",
        "plt.show()"
      ],
      "metadata": {
        "colab": {
          "base_uri": "https://localhost:8080/",
          "height": 293
        },
        "id": "q9mW5QK45iux",
        "outputId": "6f6b4e8a-cdbf-47ee-d2ff-df9ec5d3c6ff"
      },
      "execution_count": null,
      "outputs": [
        {
          "output_type": "display_data",
          "data": {
            "text/plain": [
              "<Figure size 432x288 with 0 Axes>"
            ]
          },
          "metadata": {}
        },
        {
          "output_type": "display_data",
          "data": {
            "text/plain": [
              "<Figure size 288x288 with 1 Axes>"
            ],
            "image/png": "[encoded data removed]"
          },
          "metadata": {
            "needs_background": "light"
          }
        }
      ]
    },
    {
      "cell_type": "markdown",
      "source": [
        "Preparing Dataset and splitting it into train and test"
      ],
      "metadata": {
        "id": "VCEEKKZC6KtL"
      }
    },
    {
      "cell_type": "code",
      "source": [
        "n_samples = len(digits.images)\n",
        "data = digits.images.reshape((n_samples, -1))\n",
        "X_train, X_test, y_train, y_test = train_test_split(data, digits.target, test_size=0.5, shuffle=False)"
      ],
      "metadata": {
        "id": "iTOTkEZz5voz"
      },
      "execution_count": null,
      "outputs": []
    },
    {
      "cell_type": "markdown",
      "source": [
        "**`Classifiers:`**\n",
        "\n",
        "1.Gaussian Naive Bayes\n",
        "\n",
        "2.K Nearest Neighbours\n",
        "\n",
        "3.Support Vector Machine\n",
        "\n",
        "4.Decision Trees"
      ],
      "metadata": {
        "id": "vVJM_1tj7YCU"
      }
    },
    {
      "cell_type": "markdown",
      "source": [
        "## 1.Gaussian Naive Bayes"
      ],
      "metadata": {
        "id": "ZzfSR9mm8hkE"
      }
    },
    {
      "cell_type": "code",
      "source": [
        "from sklearn.naive_bayes import GaussianNB\n",
        "GNB_classifier = GaussianNB()\n",
        "GNB_classifier.fit(X_train, y_train)\n",
        "predicted = GNB_classifier.predict(X_test)\n",
        "_, axes = plt.subplots(2, 4)\n",
        "images_and_labels = list(zip(digits.images, digits.target))"
      ],
      "metadata": {
        "colab": {
          "base_uri": "https://localhost:8080/",
          "height": 269
        },
        "id": "Dlr2Yjrs6O9v",
        "outputId": "1b2ec756-e498-4b5c-fc09-03f71ee595c3"
      },
      "execution_count": null,
      "outputs": [
        {
          "output_type": "display_data",
          "data": {
            "text/plain": [
              "<Figure size 432x288 with 8 Axes>"
            ],
            "image/png": "[encoded data removed]"
          },
          "metadata": {
            "needs_background": "light"
          }
        }
      ]
    },
    {
      "cell_type": "code",
      "source": [
        "for ax, (image, label) in zip(axes[0, :], images_and_labels[:4]):\n",
        "    ax.set_axis_off()\n",
        "    ax.imshow(image, cmap=plt.cm.gray_r, interpolation='nearest')\n",
        "    ax.set_title('Training: %i' % label)\n",
        "    \n",
        "images_and_predictions = list(zip(digits.images[n_samples // 2:], predicted))\n",
        "for ax, (image, prediction) in zip(axes[1, :], images_and_predictions[:4]):\n",
        "    ax.set_axis_off()\n",
        "    ax.imshow(image, cmap=plt.cm.gray_r, interpolation='nearest')\n",
        "    ax.set_title('Prediction: %i' % prediction)"
      ],
      "metadata": {
        "id": "Nh-CtRZtAzlv"
      },
      "execution_count": null,
      "outputs": []
    },
    {
      "cell_type": "code",
      "source": [
        "print(\"\\nClassification report for classifier %s:\\n%s\\n\" % (GNB_classifier, metrics.classification_report(y_test, predicted)))"
      ],
      "metadata": {
        "colab": {
          "base_uri": "https://localhost:8080/"
        },
        "id": "MelRUJGLA2sl",
        "outputId": "238c2232-cf04-4341-f264-7d4e25bf03f1"
      },
      "execution_count": null,
      "outputs": [
        {
          "output_type": "stream",
          "name": "stdout",
          "text": [
            "\n",
            "Classification report for classifier GaussianNB():\n",
            "              precision    recall  f1-score   support\n",
            "\n",
            "           0       0.98      0.95      0.97        88\n",
            "           1       0.81      0.74      0.77        91\n",
            "           2       0.87      0.84      0.85        86\n",
            "           3       0.88      0.79      0.83        91\n",
            "           4       1.00      0.73      0.84        92\n",
            "           5       0.70      0.81      0.76        91\n",
            "           6       0.96      0.99      0.97        91\n",
            "           7       0.65      0.81      0.72        89\n",
            "           8       0.61      0.76      0.68        88\n",
            "           9       0.77      0.66      0.71        92\n",
            "\n",
            "    accuracy                           0.81       899\n",
            "   macro avg       0.82      0.81      0.81       899\n",
            "weighted avg       0.82      0.81      0.81       899\n",
            "\n",
            "\n"
          ]
        }
      ]
    },
    {
      "cell_type": "code",
      "source": [
        "disp = metrics.plot_confusion_matrix(GNB_classifier, X_test, y_test)\n",
        "disp.figure_.suptitle(\"Confusion Matrix\")\n",
        "print(\"\\nConfusion matrix:\\n%s\" % disp.confusion_matrix)"
      ],
      "metadata": {
        "colab": {
          "base_uri": "https://localhost:8080/",
          "height": 582
        },
        "id": "LxulljjiBHea",
        "outputId": "fd126e1d-57a0-46eb-bb3c-2f00d129ac03"
      },
      "execution_count": null,
      "outputs": [
        {
          "output_type": "stream",
          "name": "stderr",
          "text": [
            "/usr/local/lib/python3.7/dist-packages/sklearn/utils/deprecation.py:87: FutureWarning: Function plot_confusion_matrix is deprecated; Function `plot_confusion_matrix` is deprecated in 1.0 and will be removed in 1.2. Use one of the class methods: ConfusionMatrixDisplay.from_predictions or ConfusionMatrixDisplay.from_estimator.\n",
            "  warnings.warn(msg, category=FutureWarning)\n"
          ]
        },
        {
          "output_type": "stream",
          "name": "stdout",
          "text": [
            "\n",
            "Confusion matrix:\n",
            "[[84  0  0  0  0  2  0  0  1  1]\n",
            " [ 0 67  2  0  0  0  0  2 13  7]\n",
            " [ 0  8 72  0  0  1  2  0  3  0]\n",
            " [ 0  2  2 72  0  2  0  2  9  2]\n",
            " [ 1  0  0  0 67  0  0 22  1  1]\n",
            " [ 0  2  0  4  0 74  1  3  2  5]\n",
            " [ 0  1  0  0  0  0 90  0  0  0]\n",
            " [ 0  0  2  0  0 12  0 72  2  1]\n",
            " [ 0  2  5  0  0  9  0  4 67  1]\n",
            " [ 1  1  0  6  0  5  1  6 11 61]]\n"
          ]
        },
        {
          "output_type": "display_data",
          "data": {
            "text/plain": [
              "<Figure size 432x288 with 2 Axes>"
            ],
            "image/png": "[encoded data removed]"
          },
          "metadata": {
            "needs_background": "light"
          }
        }
      ]
    },
    {
      "cell_type": "code",
      "source": [
        "print(\"\\nAccuracy of the Algorithm: \", GNB_classifier.score(X_test, y_test))\n",
        "plt.show()"
      ],
      "metadata": {
        "colab": {
          "base_uri": "https://localhost:8080/"
        },
        "id": "iA36uRb8BU53",
        "outputId": "df0f9a80-116d-4fb4-b959-3ed1dd981efd"
      },
      "execution_count": null,
      "outputs": [
        {
          "output_type": "stream",
          "name": "stdout",
          "text": [
            "\n",
            "Accuracy of the Algorithm:  0.8075639599555061\n"
          ]
        }
      ]
    },
    {
      "cell_type": "markdown",
      "source": [
        "## 2.**Support Vector Machine**"
      ],
      "metadata": {
        "id": "DRHEOZSj9HTG"
      }
    },
    {
      "cell_type": "code",
      "source": [
        "from sklearn import svm\n",
        "svm_classifier = svm.SVC(gamma=0.001)\n",
        "svm_classifier.fit(X_train, y_train)\n",
        "predicted = svm_classifier.predict(X_test)\n",
        "_, axes = plt.subplots(2, 4)\n",
        "#images_and_labels = list(zip(digits.images, digits.target))"
      ],
      "metadata": {
        "colab": {
          "base_uri": "https://localhost:8080/",
          "height": 269
        },
        "id": "MtmBIu5w9JOv",
        "outputId": "3f649053-9c39-406f-e990-5e1fde178f76"
      },
      "execution_count": null,
      "outputs": [
        {
          "output_type": "display_data",
          "data": {
            "text/plain": [
              "<Figure size 432x288 with 8 Axes>"
            ],
            "image/png": "[encoded data removed]"
          },
          "metadata": {
            "needs_background": "light"
          }
        }
      ]
    },
    {
      "cell_type": "code",
      "source": [
        "for ax, (image, label) in zip(axes[0, :], images_and_labels[:4]):\n",
        "    ax.set_axis_off()\n",
        "    ax.imshow(image, cmap=plt.cm.gray_r, interpolation='nearest')\n",
        "    ax.set_title('Training: %i' % label)\n",
        "    \n",
        "images_and_predictions = list(zip(digits.images[n_samples // 2:], predicted))\n",
        "for ax, (image, prediction) in zip(axes[1, :], images_and_predictions[:4]):\n",
        "    ax.set_axis_off()\n",
        "    ax.imshow(image, cmap=plt.cm.gray_r, interpolation='nearest')\n",
        "    ax.set_title('Prediction: %i' % prediction)\n",
        "print(\"\\nClassification report for classifier %s:\\n%s\\n\" % (svm_classifier, metrics.classification_report(y_test, predicted)))"
      ],
      "metadata": {
        "colab": {
          "base_uri": "https://localhost:8080/"
        },
        "id": "9WabC7q9Bpmo",
        "outputId": "b59436f7-1862-47c8-b2c4-822785e894cf"
      },
      "execution_count": null,
      "outputs": [
        {
          "output_type": "stream",
          "name": "stdout",
          "text": [
            "\n",
            "Classification report for classifier SVC(gamma=0.001):\n",
            "              precision    recall  f1-score   support\n",
            "\n",
            "           0       1.00      0.99      0.99        88\n",
            "           1       0.99      0.97      0.98        91\n",
            "           2       0.99      0.99      0.99        86\n",
            "           3       0.98      0.87      0.92        91\n",
            "           4       0.99      0.96      0.97        92\n",
            "           5       0.95      0.97      0.96        91\n",
            "           6       0.99      0.99      0.99        91\n",
            "           7       0.96      0.99      0.97        89\n",
            "           8       0.94      1.00      0.97        88\n",
            "           9       0.93      0.98      0.95        92\n",
            "\n",
            "    accuracy                           0.97       899\n",
            "   macro avg       0.97      0.97      0.97       899\n",
            "weighted avg       0.97      0.97      0.97       899\n",
            "\n",
            "\n"
          ]
        }
      ]
    },
    {
      "cell_type": "code",
      "source": [
        "disp = metrics.plot_confusion_matrix(svm_classifier, X_test, y_test)\n",
        "disp.figure_.suptitle(\"Confusion Matrix\")\n",
        "print(\"\\nConfusion matrix:\\n%s\" % disp.confusion_matrix)\n",
        "print(\"\\nAccuracy of the Algorithm: \", svm_classifier.score(X_test, y_test))\n",
        "plt.show()"
      ],
      "metadata": {
        "colab": {
          "base_uri": "https://localhost:8080/",
          "height": 618
        },
        "id": "mKh_mNi2BwP4",
        "outputId": "9d75e4d0-0fe8-40f2-e23b-58e0fe8135be"
      },
      "execution_count": null,
      "outputs": [
        {
          "output_type": "stream",
          "name": "stderr",
          "text": [
            "/usr/local/lib/python3.7/dist-packages/sklearn/utils/deprecation.py:87: FutureWarning: Function plot_confusion_matrix is deprecated; Function `plot_confusion_matrix` is deprecated in 1.0 and will be removed in 1.2. Use one of the class methods: ConfusionMatrixDisplay.from_predictions or ConfusionMatrixDisplay.from_estimator.\n",
            "  warnings.warn(msg, category=FutureWarning)\n"
          ]
        },
        {
          "output_type": "stream",
          "name": "stdout",
          "text": [
            "\n",
            "Confusion matrix:\n",
            "[[87  0  0  0  1  0  0  0  0  0]\n",
            " [ 0 88  1  0  0  0  0  0  1  1]\n",
            " [ 0  0 85  1  0  0  0  0  0  0]\n",
            " [ 0  0  0 79  0  3  0  4  5  0]\n",
            " [ 0  0  0  0 88  0  0  0  0  4]\n",
            " [ 0  0  0  0  0 88  1  0  0  2]\n",
            " [ 0  1  0  0  0  0 90  0  0  0]\n",
            " [ 0  0  0  0  0  1  0 88  0  0]\n",
            " [ 0  0  0  0  0  0  0  0 88  0]\n",
            " [ 0  0  0  1  0  1  0  0  0 90]]\n",
            "\n",
            "Accuracy of the Algorithm:  0.9688542825361512\n"
          ]
        },
        {
          "output_type": "display_data",
          "data": {
            "text/plain": [
              "<Figure size 432x288 with 2 Axes>"
            ],
            "image/png": "[encoded data removed]"
          },
          "metadata": {
            "needs_background": "light"
          }
        }
      ]
    },
    {
      "cell_type": "markdown",
      "source": [
        "##3.Decision Trees"
      ],
      "metadata": {
        "id": "SUt7vWMa93cV"
      }
    },
    {
      "cell_type": "code",
      "source": [
        "from sklearn import tree\n",
        "dt_classifier = tree.DecisionTreeClassifier()\n",
        "dt_classifier.fit(X_train, y_train)\n",
        "predicted = dt_classifier.predict(X_test)\n",
        "_, axes = plt.subplots(2, 4)\n",
        "#images_and_labels = list(zip(digits.images, digits.target))"
      ],
      "metadata": {
        "colab": {
          "base_uri": "https://localhost:8080/",
          "height": 269
        },
        "id": "VcMTycu393B1",
        "outputId": "b340957d-ce29-40bc-e9cf-bbc99d15dc32"
      },
      "execution_count": null,
      "outputs": [
        {
          "output_type": "display_data",
          "data": {
            "text/plain": [
              "<Figure size 432x288 with 8 Axes>"
            ],
            "image/png": "[encoded data removed]"
          },
          "metadata": {
            "needs_background": "light"
          }
        }
      ]
    },
    {
      "cell_type": "code",
      "source": [
        "for ax, (image, label) in zip(axes[0, :], images_and_labels[:4]):\n",
        "    ax.set_axis_off()\n",
        "    ax.imshow(image, cmap=plt.cm.gray_r, interpolation='nearest')\n",
        "    ax.set_title('Training: %i' % label)\n",
        "    \n",
        "images_and_predictions = list(zip(digits.images[n_samples // 2:], predicted))\n",
        "for ax, (image, prediction) in zip(axes[1, :], images_and_predictions[:4]):\n",
        "    ax.set_axis_off()\n",
        "    ax.imshow(image, cmap=plt.cm.gray_r, interpolation='nearest')\n",
        "    ax.set_title('Prediction: %i' % prediction)\n",
        "print(\"\\nClassification report for classifier %s:\\n%s\\n\" % (dt_classifier, metrics.classification_report(y_test, predicted)))"
      ],
      "metadata": {
        "colab": {
          "base_uri": "https://localhost:8080/"
        },
        "id": "0ktDWM2bB0cW",
        "outputId": "20968494-83a5-44e8-ca15-cbcef8d00935"
      },
      "execution_count": null,
      "outputs": [
        {
          "output_type": "stream",
          "name": "stdout",
          "text": [
            "\n",
            "Classification report for classifier DecisionTreeClassifier():\n",
            "              precision    recall  f1-score   support\n",
            "\n",
            "           0       0.89      0.91      0.90        88\n",
            "           1       0.73      0.56      0.63        91\n",
            "           2       0.86      0.74      0.80        86\n",
            "           3       0.71      0.74      0.72        91\n",
            "           4       0.72      0.77      0.75        92\n",
            "           5       0.59      0.74      0.65        91\n",
            "           6       0.88      0.92      0.90        91\n",
            "           7       0.85      0.63      0.72        89\n",
            "           8       0.61      0.68      0.64        88\n",
            "           9       0.66      0.71      0.68        92\n",
            "\n",
            "    accuracy                           0.74       899\n",
            "   macro avg       0.75      0.74      0.74       899\n",
            "weighted avg       0.75      0.74      0.74       899\n",
            "\n",
            "\n"
          ]
        }
      ]
    },
    {
      "cell_type": "code",
      "source": [
        "disp = metrics.plot_confusion_matrix(dt_classifier, X_test, y_test)\n",
        "disp.figure_.suptitle(\"Confusion Matrix\")\n",
        "print(\"\\nConfusion matrix:\\n%s\" % disp.confusion_matrix)\n",
        "print(\"\\nAccuracy of the Algorithm: \", dt_classifier.score(X_test, y_test))\n",
        "plt.show()"
      ],
      "metadata": {
        "colab": {
          "base_uri": "https://localhost:8080/",
          "height": 618
        },
        "id": "w6e9_fHqB3vs",
        "outputId": "f9d682be-afd5-4af8-bfd1-4a10654c2a95"
      },
      "execution_count": null,
      "outputs": [
        {
          "output_type": "stream",
          "name": "stderr",
          "text": [
            "/usr/local/lib/python3.7/dist-packages/sklearn/utils/deprecation.py:87: FutureWarning: Function plot_confusion_matrix is deprecated; Function `plot_confusion_matrix` is deprecated in 1.0 and will be removed in 1.2. Use one of the class methods: ConfusionMatrixDisplay.from_predictions or ConfusionMatrixDisplay.from_estimator.\n",
            "  warnings.warn(msg, category=FutureWarning)\n"
          ]
        },
        {
          "output_type": "stream",
          "name": "stdout",
          "text": [
            "\n",
            "Confusion matrix:\n",
            "[[80  0  0  0  2  2  1  0  1  2]\n",
            " [ 1 51  6  6  6  3  1  3  8  6]\n",
            " [ 1  2 64  7  0  0  3  0  7  2]\n",
            " [ 0  2  0 67  0  3  0  5 10  4]\n",
            " [ 6  3  0  0 71  6  4  0  1  1]\n",
            " [ 0  4  0  1  2 67  1  0  0 16]\n",
            " [ 2  2  0  1  1  0 84  0  1  0]\n",
            " [ 0  0  0  3 13  8  0 56  8  1]\n",
            " [ 0  4  4  4  3  8  2  2 60  1]\n",
            " [ 0  2  0  5  0 17  0  0  3 65]]\n",
            "\n",
            "Accuracy of the Algorithm:  0.7397107897664071\n"
          ]
        },
        {
          "output_type": "display_data",
          "data": {
            "text/plain": [
              "<Figure size 432x288 with 2 Axes>"
            ],
            "image/png": "[encoded data removed]"
          },
          "metadata": {
            "needs_background": "light"
          }
        }
      ]
    },
    {
      "cell_type": "markdown",
      "source": [
        "##4.KNN Classifier"
      ],
      "metadata": {
        "id": "SMvUPHaV-L6v"
      }
    },
    {
      "cell_type": "code",
      "source": [
        "from sklearn.neighbors import KNeighborsClassifier\n",
        "KNN_classifier = KNeighborsClassifier(n_neighbors=5, metric='euclidean')\n",
        "KNN_classifier.fit(X_train, y_train)\n",
        "predicted = KNN_classifier.predict(X_test)\n",
        "_, axes = plt.subplots(2, 4)\n",
        "#images_and_labels = list(zip(digits.images, digits.target))"
      ],
      "metadata": {
        "colab": {
          "base_uri": "https://localhost:8080/",
          "height": 269
        },
        "id": "Qj7bMK51-WUy",
        "outputId": "8afaa888-292a-4fda-ee40-7fbf604d9f20"
      },
      "execution_count": null,
      "outputs": [
        {
          "output_type": "display_data",
          "data": {
            "text/plain": [
              "<Figure size 432x288 with 8 Axes>"
            ],
            "image/png": "[encoded data removed]"
          },
          "metadata": {
            "needs_background": "light"
          }
        }
      ]
    },
    {
      "cell_type": "code",
      "source": [
        "for ax, (image, label) in zip(axes[0, :], images_and_labels[:4]):\n",
        "    ax.set_axis_off()\n",
        "    ax.imshow(image, cmap=plt.cm.gray_r, interpolation='nearest')\n",
        "    ax.set_title('Training: %i' % label)\n",
        "    \n",
        "images_and_predictions = list(zip(digits.images[n_samples // 2:], predicted))\n",
        "for ax, (image, prediction) in zip(axes[1, :], images_and_predictions[:4]):\n",
        "    ax.set_axis_off()\n",
        "    ax.imshow(image, cmap=plt.cm.gray_r, interpolation='nearest')\n",
        "    ax.set_title('Prediction: %i' % prediction)\n",
        "print(\"\\nClassification report for classifier %s:\\n%s\\n\" % (KNN_classifier, metrics.classification_report(y_test, predicted)))\n",
        "disp = metrics.plot_confusion_matrix(KNN_classifier, X_test, y_test)\n",
        "disp.figure_.suptitle(\"Confusion Matrix\")\n",
        "print(\"\\nConfusion matrix:\\n%s\" % disp.confusion_matrix)\n",
        "print(\"\\nAccuracy of the Algorithm: \", KNN_classifier.score(X_test, y_test))\n",
        "plt.show()"
      ],
      "metadata": {
        "colab": {
          "base_uri": "https://localhost:8080/",
          "height": 981
        },
        "id": "fb48VO_tB_dN",
        "outputId": "b7a00d84-5b0f-4f5b-89fd-5dff47e76424"
      },
      "execution_count": null,
      "outputs": [
        {
          "output_type": "stream",
          "name": "stdout",
          "text": [
            "\n",
            "Classification report for classifier KNeighborsClassifier(metric='euclidean'):\n",
            "              precision    recall  f1-score   support\n",
            "\n",
            "           0       0.99      1.00      0.99        88\n",
            "           1       0.95      0.98      0.96        91\n",
            "           2       0.98      0.93      0.95        86\n",
            "           3       0.89      0.90      0.90        91\n",
            "           4       1.00      0.95      0.97        92\n",
            "           5       0.96      0.98      0.97        91\n",
            "           6       0.99      1.00      0.99        91\n",
            "           7       0.95      1.00      0.97        89\n",
            "           8       0.95      0.90      0.92        88\n",
            "           9       0.91      0.92      0.92        92\n",
            "\n",
            "    accuracy                           0.96       899\n",
            "   macro avg       0.96      0.96      0.96       899\n",
            "weighted avg       0.96      0.96      0.96       899\n",
            "\n",
            "\n",
            "\n",
            "Confusion matrix:\n",
            "[[88  0  0  0  0  0  0  0  0  0]\n",
            " [ 0 89  0  0  0  0  0  0  1  1]\n",
            " [ 1  0 80  5  0  0  0  0  0  0]\n",
            " [ 0  0  1 82  0  2  0  3  2  1]\n",
            " [ 0  0  0  0 87  0  0  1  0  4]\n",
            " [ 0  0  0  0  0 89  1  0  0  1]\n",
            " [ 0  0  0  0  0  0 91  0  0  0]\n",
            " [ 0  0  0  0  0  0  0 89  0  0]\n",
            " [ 0  5  1  1  0  0  0  1 79  1]\n",
            " [ 0  0  0  4  0  2  0  0  1 85]]\n",
            "\n",
            "Accuracy of the Algorithm:  0.9555061179087876\n"
          ]
        },
        {
          "output_type": "stream",
          "name": "stderr",
          "text": [
            "/usr/local/lib/python3.7/dist-packages/sklearn/utils/deprecation.py:87: FutureWarning: Function plot_confusion_matrix is deprecated; Function `plot_confusion_matrix` is deprecated in 1.0 and will be removed in 1.2. Use one of the class methods: ConfusionMatrixDisplay.from_predictions or ConfusionMatrixDisplay.from_estimator.\n",
            "  warnings.warn(msg, category=FutureWarning)\n"
          ]
        },
        {
          "output_type": "display_data",
          "data": {
            "text/plain": [
              "<Figure size 432x288 with 2 Axes>"
            ],
            "image/png": "[encoded data removed]"
          },
          "metadata": {
            "needs_background": "light"
          }
        }
      ]
    },
    {
      "cell_type": "markdown",
      "source": [
        "## **Conclusion**\n"
      ],
      "metadata": {
        "id": "FeDvsVbcCbUD"
      }
    },
    {
      "cell_type": "code",
      "source": [
        "print(\"CLASSIFIER      ACCURACY\\n\")\n",
        "print(\"1. Navie Bayes    0.8075\")\n",
        "print(\"2. SVM            0.9688\")\n",
        "print(\"3.Decision Tree   0.7352\")\n",
        "print(\"4.KNN classifier  0.7352\")"
      ],
      "metadata": {
        "colab": {
          "base_uri": "https://localhost:8080/"
        },
        "id": "auUf1h6TDZvm",
        "outputId": "b87b8ee5-9e83-488c-899b-0ef6283a1a0a"
      },
      "execution_count": null,
      "outputs": [
        {
          "output_type": "stream",
          "name": "stdout",
          "text": [
            "CLASSIFIER      ACCURACY\n",
            "\n",
            "1. Navie Bayes    0.8075\n",
            "2. SVM            0.9688\n",
            "3.Decision Tree   0.7352\n",
            "4.KNN classifier  0.7352\n"
          ]
        }
      ]
    }
  ]
}